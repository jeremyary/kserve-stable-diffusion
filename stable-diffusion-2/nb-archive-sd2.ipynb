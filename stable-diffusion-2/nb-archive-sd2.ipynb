{
 "cells": [
  {
   "cell_type": "markdown",
   "id": "f426e054-4856-4a3c-a8eb-2adb6fed34a7",
   "metadata": {
    "tags": []
   },
   "source": [
    "## Install prerequisite deps for model archiving"
   ]
  },
  {
   "cell_type": "code",
   "execution_count": 1,
   "id": "b98ec39a-5183-4582-9b84-eae2be73e392",
   "metadata": {
    "tags": []
   },
   "outputs": [
    {
     "name": "stdout",
     "output_type": "stream",
     "text": [
      "\n",
      "\u001b[1m[\u001b[0m\u001b[34;49mnotice\u001b[0m\u001b[1;39;49m]\u001b[0m\u001b[39;49m A new release of pip available: \u001b[0m\u001b[31;49m22.2.2\u001b[0m\u001b[39;49m -> \u001b[0m\u001b[32;49m24.2\u001b[0m\n",
      "\u001b[1m[\u001b[0m\u001b[34;49mnotice\u001b[0m\u001b[1;39;49m]\u001b[0m\u001b[39;49m To update, run: \u001b[0m\u001b[32;49mpip install --upgrade pip\u001b[0m\n"
     ]
    }
   ],
   "source": [
    "!pip install -q -U torch-model-archiver diffusers accelerate transformers"
   ]
  },
  {
   "cell_type": "markdown",
   "id": "4a31dc38-7c64-4608-8619-f716070f8214",
   "metadata": {
    "tags": []
   },
   "source": [
    "## Pull the SD model from Huggingface & save locally"
   ]
  },
  {
   "cell_type": "code",
   "execution_count": 2,
   "id": "35e7dc43-e0d8-4975-bbd4-645517846a9e",
   "metadata": {
    "tags": []
   },
   "outputs": [
    {
     "data": {
      "application/vnd.jupyter.widget-view+json": {
       "model_id": "c11c959fca9743e3a1627d47d6e5a2ec",
       "version_major": 2,
       "version_minor": 0
      },
      "text/plain": [
       "Loading pipeline components...:   0%|          | 0/6 [00:00<?, ?it/s]"
      ]
     },
     "metadata": {},
     "output_type": "display_data"
    }
   ],
   "source": [
    "import torch\n",
    "from diffusers import DiffusionPipeline\n",
    "\n",
    "pipeline = DiffusionPipeline.from_pretrained(\n",
    "    \"stabilityai/stable-diffusion-2\",\n",
    "    variant=\"fp16\",\n",
    "    torch_dtype=torch.float16,\n",
    ")\n",
    "pipeline.save_pretrained(\"./downloaded_model\")"
   ]
  },
  {
   "cell_type": "markdown",
   "id": "c8c77494-f650-4340-b83e-2b12535b5dae",
   "metadata": {
    "tags": []
   },
   "source": [
    "## Zip the downloaded model (files must be in root dir of zip file)"
   ]
  },
  {
   "cell_type": "code",
   "execution_count": 3,
   "id": "6242da51-00d3-4a8e-9bf2-a9225972bedd",
   "metadata": {
    "tags": []
   },
   "outputs": [
    {
     "name": "stderr",
     "output_type": "stream",
     "text": [
      "/opt/app-root/lib64/python3.9/site-packages/IPython/core/magics/osm.py:417: UserWarning: using dhist requires you to install the `pickleshare` library.\n",
      "  self.shell.db['dhist'] = compress_dhist(dhist)[-100:]\n"
     ]
    },
    {
     "name": "stdout",
     "output_type": "stream",
     "text": [
      "/opt/app-root/src/SDXL[R]/sd2/downloaded_model\n",
      "  adding: feature_extractor/ (stored 0%)\n",
      "  adding: feature_extractor/preprocessor_config.json (deflated 48%)\n",
      "  adding: model_index.json (deflated 56%)\n",
      "  adding: scheduler/ (stored 0%)\n",
      "  adding: scheduler/scheduler_config.json (deflated 48%)\n",
      "  adding: text_encoder/ (stored 0%)\n",
      "  adding: text_encoder/config.json (deflated 43%)\n",
      "  adding: text_encoder/model.safetensors (deflated 8%)\n",
      "  adding: tokenizer/ (stored 0%)\n",
      "  adding: tokenizer/special_tokens_map.json (deflated 72%)\n",
      "  adding: tokenizer/merges.txt (deflated 60%)\n",
      "  adding: tokenizer/vocab.json (deflated 71%)\n",
      "  adding: tokenizer/tokenizer_config.json (deflated 68%)\n",
      "  adding: unet/ (stored 0%)\n",
      "  adding: unet/config.json (deflated 64%)\n",
      "  adding: unet/diffusion_pytorch_model.safetensors (deflated 7%)\n",
      "  adding: vae/ (stored 0%)\n",
      "  adding: vae/config.json (deflated 55%)\n",
      "  adding: vae/diffusion_pytorch_model.safetensors (deflated 8%)\n",
      "/opt/app-root/src/SDXL[R]/sd2\n"
     ]
    }
   ],
   "source": [
    "%cd downloaded_model\n",
    "!zip -FSr ../model.zip *\n",
    "%cd ../"
   ]
  },
  {
   "cell_type": "markdown",
   "id": "83dae88c-7b8a-4945-8ef2-f834ddb33f10",
   "metadata": {
    "tags": []
   },
   "source": [
    "##  Archive the saved model, incl. custom handler that'll utilize the zip from model storage to seed HF diffuser pipelines"
   ]
  },
  {
   "cell_type": "code",
   "execution_count": 4,
   "id": "c48d61fb-6bf4-466f-b4d7-348cd1a1a7f4",
   "metadata": {
    "tags": []
   },
   "outputs": [
    {
     "name": "stdout",
     "output_type": "stream",
     "text": [
      "WARNING - Overwriting /opt/app-root/src/SDXL[R]/sd2/stable-diffusion.mar ...\n"
     ]
    }
   ],
   "source": [
    "!torch-model-archiver --model-name stable-diffusion \\\n",
    "    --version 1.0 \\\n",
    "    --handler stable_diffusion_handler.py \\\n",
    "    --extra-files model.zip \\\n",
    "    --requirements-file ./requirements.txt \\\n",
    "    --force #replace if already exists"
   ]
  },
  {
   "cell_type": "markdown",
   "id": "73ac40ab-327b-44ec-9c06-4a43be8b03e0",
   "metadata": {},
   "source": []
  },
  {
   "cell_type": "code",
   "execution_count": null,
   "id": "40728a4b-e024-4a44-9634-225c52ce709c",
   "metadata": {},
   "outputs": [],
   "source": []
  }
 ],
 "metadata": {
  "kernelspec": {
   "display_name": "Python 3.9",
   "language": "python",
   "name": "python3"
  },
  "language_info": {
   "codemirror_mode": {
    "name": "ipython",
    "version": 3
   },
   "file_extension": ".py",
   "mimetype": "text/x-python",
   "name": "python",
   "nbconvert_exporter": "python",
   "pygments_lexer": "ipython3",
   "version": "3.9.18"
  }
 },
 "nbformat": 4,
 "nbformat_minor": 5
}
