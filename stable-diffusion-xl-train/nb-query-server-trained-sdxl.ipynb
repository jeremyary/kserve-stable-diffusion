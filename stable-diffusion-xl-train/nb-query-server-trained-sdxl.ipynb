{
 "cells": [
  {
   "cell_type": "code",
   "execution_count": 1,
   "id": "4434e04f-857a-48fc-aff2-32a8618a50fd",
   "metadata": {
    "tags": []
   },
   "outputs": [],
   "source": [
    "!pip install -q -U orjson"
   ]
  },
  {
   "cell_type": "code",
   "execution_count": null,
   "id": "27c89c01-2ff1-49ce-ba97-682c95cb0158",
   "metadata": {
    "tags": []
   },
   "outputs": [],
   "source": [
    "import requests\n",
    "import orjson\n",
    "from PIL import Image\n",
    "import numpy as np\n",
    "\n",
    "model_endpoint = \"https://kt2-sd-proj.apps.jary-opea.77qw.p1.openshiftapps.com/v2/models/stable-diffusion/infer\"\n",
    "\n",
    "# read if token is present or leave ./token.cfg file blank if no token req'd\n",
    "with open('token.cfg', 'r') as file:\n",
    "    bearer_token = file.read().replace('\\n', '')\n",
    "\n",
    "head = {\"Authorization\": 'Bearer {}'.format(bearer_token)} if len(bearer_token) >= 1 else {}\n",
    "request = {\n",
    "    \"id\": \"42\",\n",
    "    \"inputs\": [\n",
    "        {\n",
    "            \"data\": [\"A picture of a tyrannosaurus rex in space\"],\n",
    "            \"datatype\": \"BYTES\",\n",
    "            \"name\": \"input0\",\n",
    "            \"shape\": [-1]\n",
    "        }\n",
    "    ]\n",
    "}\n",
    "\n",
    "response = requests.post(model_endpoint, json=request, headers=head, verify=False)\n",
    "print(response)\n",
    "payload = orjson.loads(response.content)\n",
    "\n",
    "image = Image.fromarray(np.array(payload[\"outputs\"][0][\"data\"], dtype=\"uint8\"))\n",
    "image.show()"
   ]
  },
  {
   "cell_type": "code",
   "execution_count": null,
   "id": "fc6466ef-5c67-45d5-8046-25021d539f16",
   "metadata": {},
   "outputs": [],
   "source": []
  }
 ],
 "metadata": {
  "kernelspec": {
   "display_name": "Python 3.9",
   "language": "python",
   "name": "python3"
  },
  "language_info": {
   "codemirror_mode": {
    "name": "ipython",
    "version": 3
   },
   "file_extension": ".py",
   "mimetype": "text/x-python",
   "name": "python",
   "nbconvert_exporter": "python",
   "pygments_lexer": "ipython3",
   "version": "3.9.18"
  }
 },
 "nbformat": 4,
 "nbformat_minor": 5
}
