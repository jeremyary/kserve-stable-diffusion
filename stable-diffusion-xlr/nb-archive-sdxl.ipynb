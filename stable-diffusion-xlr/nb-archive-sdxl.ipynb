{
 "cells": [
  {
   "cell_type": "markdown",
   "id": "f426e054-4856-4a3c-a8eb-2adb6fed34a7",
   "metadata": {
    "tags": []
   },
   "source": [
    "## Install prerequisite deps for model archiving (restart kernel after initial/greenfield pip installs)"
   ]
  },
  {
   "cell_type": "code",
   "execution_count": 2,
   "id": "b98ec39a-5183-4582-9b84-eae2be73e392",
   "metadata": {
    "tags": []
   },
   "outputs": [
    {
     "name": "stdout",
     "output_type": "stream",
     "text": [
      "\n",
      "\u001b[1m[\u001b[0m\u001b[34;49mnotice\u001b[0m\u001b[1;39;49m]\u001b[0m\u001b[39;49m A new release of pip available: \u001b[0m\u001b[31;49m22.2.2\u001b[0m\u001b[39;49m -> \u001b[0m\u001b[32;49m24.2\u001b[0m\n",
      "\u001b[1m[\u001b[0m\u001b[34;49mnotice\u001b[0m\u001b[1;39;49m]\u001b[0m\u001b[39;49m To update, run: \u001b[0m\u001b[32;49mpip install --upgrade pip\u001b[0m\n"
     ]
    }
   ],
   "source": [
    "!pip install -q -U torch-model-archiver huggingface_hub diffusers accelerate transformers"
   ]
  },
  {
   "cell_type": "markdown",
   "id": "4a31dc38-7c64-4608-8619-f716070f8214",
   "metadata": {
    "tags": []
   },
   "source": [
    "## Pull the SD model from Huggingface & save locally"
   ]
  },
  {
   "cell_type": "code",
   "execution_count": 2,
   "id": "35e7dc43-e0d8-4975-bbd4-645517846a9e",
   "metadata": {
    "tags": []
   },
   "outputs": [
    {
     "data": {
      "application/vnd.jupyter.widget-view+json": {
       "model_id": "2e6a3e7a64d44dc6aa813430eb476507",
       "version_major": 2,
       "version_minor": 0
      },
      "text/plain": [
       "Loading pipeline components...:   0%|          | 0/7 [00:00<?, ?it/s]"
      ]
     },
     "metadata": {},
     "output_type": "display_data"
    },
    {
     "data": {
      "application/vnd.jupyter.widget-view+json": {
       "model_id": "ab5264482229488d9832ca5cc158a56f",
       "version_major": 2,
       "version_minor": 0
      },
      "text/plain": [
       "model_index.json:   0%|          | 0.00/612 [00:00<?, ?B/s]"
      ]
     },
     "metadata": {},
     "output_type": "display_data"
    },
    {
     "data": {
      "application/vnd.jupyter.widget-view+json": {
       "model_id": "ddc0136bd19f4250a40914f2146619ce",
       "version_major": 2,
       "version_minor": 0
      },
      "text/plain": [
       "Fetching 13 files:   0%|          | 0/13 [00:00<?, ?it/s]"
      ]
     },
     "metadata": {},
     "output_type": "display_data"
    },
    {
     "data": {
      "application/vnd.jupyter.widget-view+json": {
       "model_id": "dc04fdbd648942ee8c0af769778fc3ea",
       "version_major": 2,
       "version_minor": 0
      },
      "text/plain": [
       "tokenizer_2/tokenizer_config.json:   0%|          | 0.00/725 [00:00<?, ?B/s]"
      ]
     },
     "metadata": {},
     "output_type": "display_data"
    },
    {
     "data": {
      "application/vnd.jupyter.widget-view+json": {
       "model_id": "db2b19f2b3ba477eb29d7e864d8ee21b",
       "version_major": 2,
       "version_minor": 0
      },
      "text/plain": [
       "text_encoder_2/config.json:   0%|          | 0.00/575 [00:00<?, ?B/s]"
      ]
     },
     "metadata": {},
     "output_type": "display_data"
    },
    {
     "data": {
      "application/vnd.jupyter.widget-view+json": {
       "model_id": "0fe7f15cc6d948cc9691819c7f798cb0",
       "version_major": 2,
       "version_minor": 0
      },
      "text/plain": [
       "tokenizer_2/vocab.json:   0%|          | 0.00/1.06M [00:00<?, ?B/s]"
      ]
     },
     "metadata": {},
     "output_type": "display_data"
    },
    {
     "data": {
      "application/vnd.jupyter.widget-view+json": {
       "model_id": "3b3ea62704194f5fab066a06cf088a2b",
       "version_major": 2,
       "version_minor": 0
      },
      "text/plain": [
       "tokenizer_2/special_tokens_map.json:   0%|          | 0.00/460 [00:00<?, ?B/s]"
      ]
     },
     "metadata": {},
     "output_type": "display_data"
    },
    {
     "data": {
      "application/vnd.jupyter.widget-view+json": {
       "model_id": "0880dd0c8c7242e19924fffd5d12bb74",
       "version_major": 2,
       "version_minor": 0
      },
      "text/plain": [
       "tokenizer_2/merges.txt:   0%|          | 0.00/525k [00:00<?, ?B/s]"
      ]
     },
     "metadata": {},
     "output_type": "display_data"
    },
    {
     "data": {
      "application/vnd.jupyter.widget-view+json": {
       "model_id": "ff79e8c845064436a67fba13ab6e74a3",
       "version_major": 2,
       "version_minor": 0
      },
      "text/plain": [
       "scheduler/scheduler_config.json:   0%|          | 0.00/479 [00:00<?, ?B/s]"
      ]
     },
     "metadata": {},
     "output_type": "display_data"
    },
    {
     "data": {
      "application/vnd.jupyter.widget-view+json": {
       "model_id": "0eb164a44f5647119e899539830f528e",
       "version_major": 2,
       "version_minor": 0
      },
      "text/plain": [
       "model.fp16.safetensors:   0%|          | 0.00/1.39G [00:00<?, ?B/s]"
      ]
     },
     "metadata": {},
     "output_type": "display_data"
    },
    {
     "data": {
      "application/vnd.jupyter.widget-view+json": {
       "model_id": "328711e04b9245829c90825bfa3c64d8",
       "version_major": 2,
       "version_minor": 0
      },
      "text/plain": [
       "unet/config.json:   0%|          | 0.00/1.71k [00:00<?, ?B/s]"
      ]
     },
     "metadata": {},
     "output_type": "display_data"
    },
    {
     "data": {
      "application/vnd.jupyter.widget-view+json": {
       "model_id": "b0025d22a3df486c8160c03d0fcf3e10",
       "version_major": 2,
       "version_minor": 0
      },
      "text/plain": [
       "vae/config.json:   0%|          | 0.00/642 [00:00<?, ?B/s]"
      ]
     },
     "metadata": {},
     "output_type": "display_data"
    },
    {
     "data": {
      "application/vnd.jupyter.widget-view+json": {
       "model_id": "d44672637bb045778b93c93580d9cfeb",
       "version_major": 2,
       "version_minor": 0
      },
      "text/plain": [
       "diffusion_pytorch_model.fp16.safetensors:   0%|          | 0.00/4.52G [00:00<?, ?B/s]"
      ]
     },
     "metadata": {},
     "output_type": "display_data"
    },
    {
     "data": {
      "application/vnd.jupyter.widget-view+json": {
       "model_id": "f73960f9f6fb44edba6789614740fbe7",
       "version_major": 2,
       "version_minor": 0
      },
      "text/plain": [
       "diffusion_pytorch_model.fp16.safetensors:   0%|          | 0.00/167M [00:00<?, ?B/s]"
      ]
     },
     "metadata": {},
     "output_type": "display_data"
    },
    {
     "data": {
      "application/vnd.jupyter.widget-view+json": {
       "model_id": "67d775f7534c41dba90c9fadfaac6f5a",
       "version_major": 2,
       "version_minor": 0
      },
      "text/plain": [
       "diffusion_pytorch_model.fp16.safetensors:   0%|          | 0.00/167M [00:00<?, ?B/s]"
      ]
     },
     "metadata": {},
     "output_type": "display_data"
    },
    {
     "data": {
      "application/vnd.jupyter.widget-view+json": {
       "model_id": "7d0654da813543b0948e258fb1d2a17f",
       "version_major": 2,
       "version_minor": 0
      },
      "text/plain": [
       "Loading pipeline components...:   0%|          | 0/5 [00:00<?, ?it/s]"
      ]
     },
     "metadata": {},
     "output_type": "display_data"
    }
   ],
   "source": [
    "import torch\n",
    "from diffusers import StableDiffusionXLPipeline, StableDiffusionXLImg2ImgPipeline\n",
    "\n",
    "pipeline = StableDiffusionXLPipeline.from_pretrained(\n",
    "    \"stabilityai/stable-diffusion-xl-base-1.0\",\n",
    "    variant=\"fp16\",\n",
    "    torch_dtype=torch.float16\n",
    ")\n",
    "pipeline.save_pretrained(\"./downloaded_model\")\n",
    "\n",
    "refiner = StableDiffusionXLImg2ImgPipeline.from_pretrained(\n",
    "    \"stabilityai/stable-diffusion-xl-refiner-1.0\",\n",
    "    variant=\"fp16\",\n",
    "    torch_dtype=torch.float16\n",
    ")\n",
    "refiner.save_pretrained(\"./refiner_model\")"
   ]
  },
  {
   "cell_type": "markdown",
   "id": "c8c77494-f650-4340-b83e-2b12535b5dae",
   "metadata": {
    "tags": []
   },
   "source": [
    "## Zip the downloaded model (files must be in root dir of zip file)"
   ]
  },
  {
   "cell_type": "code",
   "execution_count": 3,
   "id": "6242da51-00d3-4a8e-9bf2-a9225972bedd",
   "metadata": {
    "tags": []
   },
   "outputs": [
    {
     "name": "stderr",
     "output_type": "stream",
     "text": [
      "/opt/app-root/lib64/python3.9/site-packages/IPython/core/magics/osm.py:417: UserWarning: using dhist requires you to install the `pickleshare` library.\n",
      "  self.shell.db['dhist'] = compress_dhist(dhist)[-100:]\n"
     ]
    },
    {
     "name": "stdout",
     "output_type": "stream",
     "text": [
      "/opt/app-root/src/SDXL/downloaded_model\n",
      "updating: model_index.json (deflated 59%)\n",
      "updating: scheduler/scheduler_config.json (deflated 51%)\n",
      "updating: text_encoder/config.json (deflated 43%)\n",
      "updating: text_encoder/model.safetensors (deflated 8%)\n",
      "updating: text_encoder_2/config.json (deflated 43%)\n",
      "updating: text_encoder_2/model.safetensors (deflated 8%)\n",
      "updating: tokenizer/special_tokens_map.json (deflated 73%)\n",
      "updating: tokenizer/merges.txt (deflated 60%)\n",
      "updating: tokenizer/vocab.json (deflated 71%)\n",
      "updating: tokenizer/tokenizer_config.json (deflated 63%)\n",
      "updating: tokenizer_2/special_tokens_map.json (deflated 72%)\n",
      "updating: tokenizer_2/merges.txt (deflated 60%)\n",
      "updating: tokenizer_2/vocab.json (deflated 71%)\n",
      "updating: tokenizer_2/tokenizer_config.json (deflated 68%)\n",
      "updating: unet/config.json (deflated 62%)\n",
      "updating: unet/diffusion_pytorch_model.safetensors (deflated 8%)\n",
      "updating: vae/config.json (deflated 54%)\n",
      "updating: vae/diffusion_pytorch_model.safetensors (deflated 7%)\n",
      "/opt/app-root/src/SDXL\n",
      "/opt/app-root/src/SDXL/refiner_model\n",
      "  adding: model_index.json (deflated 56%)\n",
      "  adding: scheduler/ (stored 0%)\n",
      "  adding: scheduler/scheduler_config.json (deflated 51%)\n",
      "  adding: text_encoder_2/ (stored 0%)\n",
      "  adding: text_encoder_2/config.json (deflated 43%)\n",
      "  adding: text_encoder_2/model.safetensors (deflated 8%)\n",
      "  adding: tokenizer_2/ (stored 0%)\n",
      "  adding: tokenizer_2/special_tokens_map.json (deflated 72%)\n",
      "  adding: tokenizer_2/merges.txt (deflated 60%)\n",
      "  adding: tokenizer_2/vocab.json (deflated 71%)\n",
      "  adding: tokenizer_2/tokenizer_config.json (deflated 68%)\n",
      "  adding: unet/ (stored 0%)\n",
      "  adding: unet/config.json (deflated 62%)\n",
      "  adding: unet/diffusion_pytorch_model.safetensors (deflated 8%)\n",
      "  adding: vae/ (stored 0%)\n",
      "  adding: vae/config.json (deflated 55%)\n",
      "  adding: vae/diffusion_pytorch_model.safetensors (deflated 7%)\n",
      "/opt/app-root/src/SDXL\n"
     ]
    }
   ],
   "source": [
    "%cd downloaded_model\n",
    "!zip -FSr ../model.zip *\n",
    "%cd ../\n",
    "\n",
    "%cd refiner_model\n",
    "!zip -FSr ../refiner.zip *\n",
    "%cd ../"
   ]
  },
  {
   "cell_type": "markdown",
   "id": "83dae88c-7b8a-4945-8ef2-f834ddb33f10",
   "metadata": {
    "tags": []
   },
   "source": [
    "##  Archive the saved model, incl. custom handler that'll utilize the zip from model storage to seed HF diffuser pipelines"
   ]
  },
  {
   "cell_type": "code",
   "execution_count": 5,
   "id": "c48d61fb-6bf4-466f-b4d7-348cd1a1a7f4",
   "metadata": {
    "tags": []
   },
   "outputs": [
    {
     "name": "stdout",
     "output_type": "stream",
     "text": [
      "WARNING - Overwriting /opt/app-root/src/SDXL/stable-diffusion.mar ...\n"
     ]
    }
   ],
   "source": [
    "!torch-model-archiver --model-name stable-diffusion \\\n",
    "    --version 1.0 \\\n",
    "    --handler stable_diffusion_handler.py \\\n",
    "    --extra-files model.zip,refiner.zip \\\n",
    "    --requirements-file ./requirements.txt \\\n",
    "    --force #replace if already exists"
   ]
  },
  {
   "cell_type": "markdown",
   "id": "73ac40ab-327b-44ec-9c06-4a43be8b03e0",
   "metadata": {},
   "source": [
    "## Bucket subdirectory structure:\n",
    "\n",
    "```\n",
    "bucket\n",
    "├── stable-diffusion/              # name here is not too important\n",
    "│   ├── config/\n",
    "│   │   ├── config.properties      # copied from this workbook\n",
    "│   ├── model-store/\n",
    "│   |   ├── stable-diffusion.mar   # filename is important! copy file from this workbook after completing previous/last step\n",
    "```\n",
    "\n",
    "## config.properties\n",
    "```\n",
    "inference_address=http://0.0.0.0:8085\n",
    "management_address=http://0.0.0.0:8085\n",
    "metrics_address=http://0.0.0.0:8082\n",
    "grpc_inference_port=7070\n",
    "grpc_management_port=7071\n",
    "enable_envvars_config=true\n",
    "install_py_dep_per_model=true\n",
    "enable_metrics_api=true\n",
    "metrics_mode=prometheus\n",
    "NUM_WORKERS=1\n",
    "number_of_netty_threads=4\n",
    "job_queue_size=10\n",
    "max_response_size=30000000\n",
    "model_store=/mnt/models/model-store\n",
    "model_snapshot={\"name\":\"startup.cfg\",\"modelCount\":1,\"models\":{\"stable-diffusion\":{\"1.0\":{\"defaultVersion\":true,\"marName\":\"stable-diffusion.mar\",\"minWorkers\":1,\"maxWorkers\":5,\"batchSize\":1,\"maxBatchDelay\":5000,\"responseTimeout\":900}}}}\n",
    "```"
   ]
  }
 ],
 "metadata": {
  "kernelspec": {
   "display_name": "Python 3.9",
   "language": "python",
   "name": "python3"
  },
  "language_info": {
   "codemirror_mode": {
    "name": "ipython",
    "version": 3
   },
   "file_extension": ".py",
   "mimetype": "text/x-python",
   "name": "python",
   "nbconvert_exporter": "python",
   "pygments_lexer": "ipython3",
   "version": "3.9.18"
  }
 },
 "nbformat": 4,
 "nbformat_minor": 5
}
